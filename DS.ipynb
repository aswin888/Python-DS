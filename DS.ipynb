{
  "nbformat": 4,
  "nbformat_minor": 0,
  "metadata": {
    "colab": {
      "name": "DS",
      "provenance": [],
      "authorship_tag": "ABX9TyOK85K9zhrLHmtGSMw8Y6zt",
      "include_colab_link": true
    },
    "kernelspec": {
      "name": "python3",
      "display_name": "Python 3"
    },
    "language_info": {
      "name": "python"
    }
  },
  "cells": [
    {
      "cell_type": "markdown",
      "metadata": {
        "id": "view-in-github",
        "colab_type": "text"
      },
      "source": [
        "<a href=\"https://colab.research.google.com/github/aswin888/Python-DS/blob/main/DS.ipynb\" target=\"_parent\"><img src=\"https://colab.research.google.com/assets/colab-badge.svg\" alt=\"Open In Colab\"/></a>"
      ]
    },
    {
      "cell_type": "markdown",
      "metadata": {
        "id": "glhXsMopM1Hb"
      },
      "source": [
        "<h1>*args and *kwargs</h1>\n",
        "<hr/>"
      ]
    },
    {
      "cell_type": "code",
      "metadata": {
        "colab": {
          "base_uri": "https://localhost:8080/"
        },
        "id": "1wEt6yNYMzg9",
        "outputId": "f460febe-e716-4851-9ab9-465cab4fda19"
      },
      "source": [
        "def test_function(*args):\n",
        "  print(args)\n",
        "\n",
        "test_function(1,2,3)"
      ],
      "execution_count": null,
      "outputs": [
        {
          "output_type": "stream",
          "name": "stdout",
          "text": [
            "(1, 2, 3)\n"
          ]
        }
      ]
    },
    {
      "cell_type": "code",
      "metadata": {
        "colab": {
          "base_uri": "https://localhost:8080/"
        },
        "id": "ogv6RfObNJev",
        "outputId": "11788b9e-dc44-4823-effe-319face5b15f"
      },
      "source": [
        "def test_function(**kwargs):\n",
        "  print(kwargs)\n",
        "\n",
        "test_function(a=1,b=2,c=3)"
      ],
      "execution_count": null,
      "outputs": [
        {
          "output_type": "stream",
          "name": "stdout",
          "text": [
            "{'a': 1, 'b': 2, 'c': 3}\n"
          ]
        }
      ]
    },
    {
      "cell_type": "code",
      "metadata": {
        "colab": {
          "base_uri": "https://localhost:8080/"
        },
        "id": "ZXwlmQWxNQD0",
        "outputId": "8988f6f2-04e2-4497-aaa9-c40d531e2f85"
      },
      "source": [
        "def test_function(*args,**kwargs):\n",
        "  print(args,kwargs)\n",
        "\n",
        "test_function(1,2,3,a=1,b=2,c=3)"
      ],
      "execution_count": null,
      "outputs": [
        {
          "output_type": "stream",
          "name": "stdout",
          "text": [
            "(1, 2, 3) {'a': 1, 'b': 2, 'c': 3}\n"
          ]
        }
      ]
    },
    {
      "cell_type": "markdown",
      "metadata": {
        "id": "0DHEan4AKhCY"
      },
      "source": [
        "<h1>Generators\n",
        "</h1>"
      ]
    },
    {
      "cell_type": "code",
      "metadata": {
        "colab": {
          "base_uri": "https://localhost:8080/"
        },
        "id": "CJPRNpiDKlIF",
        "outputId": "211ca619-acdb-4706-fb57-0a3ffecf1f58"
      },
      "source": [
        "def square_numbers(nums):\n",
        "  result = []\n",
        "  for _ in nums:\n",
        "    result.append(_*_)\n",
        "  return result\n",
        "nums = [1,2,3,4,5]\n",
        "print(square_numbers(nums))"
      ],
      "execution_count": null,
      "outputs": [
        {
          "output_type": "stream",
          "name": "stdout",
          "text": [
            "[1, 4, 9, 16, 25]\n"
          ]
        }
      ]
    },
    {
      "cell_type": "code",
      "metadata": {
        "colab": {
          "base_uri": "https://localhost:8080/"
        },
        "id": "WokgOwDHLZZQ",
        "outputId": "e250b6ba-2cd3-43c1-ae98-807e620eea5c"
      },
      "source": [
        "def square_numbers(nums):\n",
        "  for _ in nums:\n",
        "    yield _*_\n",
        "\n",
        "op = square_numbers([1,2,3,4,5])\n",
        "for i in op:\n",
        "  print(i)\n"
      ],
      "execution_count": null,
      "outputs": [
        {
          "output_type": "stream",
          "name": "stdout",
          "text": [
            "1\n",
            "4\n",
            "9\n",
            "16\n",
            "25\n"
          ]
        }
      ]
    },
    {
      "cell_type": "markdown",
      "metadata": {
        "id": "W3ICK43-6o8g"
      },
      "source": [
        "<h1>1.Recursion</h1>\n",
        "<hr>"
      ]
    },
    {
      "cell_type": "code",
      "metadata": {
        "id": "3R5mBiLALikq",
        "colab": {
          "base_uri": "https://localhost:8080/"
        },
        "outputId": "cb70a0b8-bcc6-4c71-e95f-08a57e841dae"
      },
      "source": [
        "def recursiveMethod(n):\n",
        "  if(n<1):\n",
        "    print(\"n is less than 1, base condition\")\n",
        "  else:\n",
        "    recursiveMethod(n-1)\n",
        "    print(n)\n",
        "\n",
        "recursiveMethod(4)\n",
        "\n",
        "'''\n",
        "STACK MEMORY\n",
        "'''"
      ],
      "execution_count": null,
      "outputs": [
        {
          "output_type": "stream",
          "name": "stdout",
          "text": [
            "n is less than 1, base condition\n",
            "1\n",
            "2\n",
            "3\n",
            "4\n"
          ]
        }
      ]
    },
    {
      "cell_type": "code",
      "metadata": {
        "colab": {
          "base_uri": "https://localhost:8080/"
        },
        "id": "R7jcAJmoFH4u",
        "outputId": "00241b8c-c7be-433d-d051-f2057d4a21bc"
      },
      "source": [
        "def factorial(n):\n",
        "  if(n == 0):\n",
        "    return 1\n",
        "  else:\n",
        "    return n * factorial(n-1)\n",
        "\n",
        "print(factorial(4))"
      ],
      "execution_count": null,
      "outputs": [
        {
          "output_type": "stream",
          "name": "stdout",
          "text": [
            "24\n"
          ]
        }
      ]
    },
    {
      "cell_type": "code",
      "metadata": {
        "colab": {
          "base_uri": "https://localhost:8080/"
        },
        "id": "YvbE_3GJGnge",
        "outputId": "ce62208d-e081-4031-b6fb-0f351f9bd4e4"
      },
      "source": [
        "def fibo(n):\n",
        "  assert n>0 and n == int(n), \"Error input\"\n",
        "  if(n==1):\n",
        "    return 0\n",
        "  if(n == 2):\n",
        "    return 1\n",
        "  else:\n",
        "    return fibo(n-1)+fibo(n-2)\n",
        "\n",
        "print(fibo(10))"
      ],
      "execution_count": null,
      "outputs": [
        {
          "output_type": "stream",
          "name": "stdout",
          "text": [
            "34\n"
          ]
        }
      ]
    },
    {
      "cell_type": "code",
      "metadata": {
        "colab": {
          "base_uri": "https://localhost:8080/"
        },
        "id": "UfMqmNePJI5P",
        "outputId": "35feb35d-e87f-47dd-fe65-14126e72ca90"
      },
      "source": [
        "def Sum(n):\n",
        "  if(n==0):\n",
        "    return 0\n",
        "  else:\n",
        "    return n+Sum(n-1)\n",
        "\n",
        "print(Sum(5))"
      ],
      "execution_count": null,
      "outputs": [
        {
          "output_type": "stream",
          "name": "stdout",
          "text": [
            "15\n"
          ]
        }
      ]
    },
    {
      "cell_type": "code",
      "metadata": {
        "colab": {
          "base_uri": "https://localhost:8080/"
        },
        "id": "JHAQdZa5Jksz",
        "outputId": "6eded163-bb47-471b-f645-055bef267df6"
      },
      "source": [
        "#sum of digits in the number\n",
        "def Sum(n):\n",
        "  if(n==0):\n",
        "    return 0\n",
        "  else:\n",
        "    return n%10+Sum(int(n/10))\n",
        "print(Sum(111))"
      ],
      "execution_count": null,
      "outputs": [
        {
          "output_type": "stream",
          "name": "stdout",
          "text": [
            "3\n"
          ]
        }
      ]
    },
    {
      "cell_type": "code",
      "metadata": {
        "colab": {
          "base_uri": "https://localhost:8080/"
        },
        "id": "X19KkCS-K5Eh",
        "outputId": "d7aaa51e-ea33-4d77-b213-b54daccbb7ec"
      },
      "source": [
        "def Power(c,n):\n",
        "  if(n == 0):\n",
        "    return 1\n",
        "  else:\n",
        "    return c*Power(c,n-1)\n",
        "\n",
        "print(Power(2,3))"
      ],
      "execution_count": null,
      "outputs": [
        {
          "output_type": "stream",
          "name": "stdout",
          "text": [
            "8\n"
          ]
        }
      ]
    },
    {
      "cell_type": "code",
      "metadata": {
        "colab": {
          "base_uri": "https://localhost:8080/"
        },
        "id": "eyNlzF-WMUzg",
        "outputId": "4b250256-4802-4430-869a-45b236bb2a96"
      },
      "source": [
        "#Find gcd using euclidean algorithm\n",
        "# The algo: gcd(a,b) = gcd( a, a%b ) and gcd( a, 0 ) = a\n",
        "\n",
        "def gcd(a,b):\n",
        "  if(b == 0):\n",
        "    return a\n",
        "  else:\n",
        "    return gcd(b,a%b)\n",
        "\n",
        "print(gcd(48,18))"
      ],
      "execution_count": null,
      "outputs": [
        {
          "output_type": "stream",
          "name": "stdout",
          "text": [
            "6\n"
          ]
        }
      ]
    },
    {
      "cell_type": "code",
      "metadata": {
        "colab": {
          "base_uri": "https://localhost:8080/"
        },
        "id": "UYulUrLTNYC-",
        "outputId": "48a1bfa9-c4ec-4a8b-d29f-6560c69415f1"
      },
      "source": [
        "#decimal to binary\n",
        "def binary(n):\n",
        "  if(n == 0):\n",
        "    return 0\n",
        "  else:\n",
        "    return n%2 + 10*binary(int(n/2))\n",
        "\n",
        "binary(13)"
      ],
      "execution_count": null,
      "outputs": [
        {
          "output_type": "execute_result",
          "data": {
            "text/plain": [
              "1101"
            ]
          },
          "metadata": {},
          "execution_count": 36
        }
      ]
    },
    {
      "cell_type": "markdown",
      "metadata": {
        "id": "6TQKG33wsuju"
      },
      "source": [
        "<h1>Array</h1>\n",
        "<hr>"
      ]
    },
    {
      "cell_type": "code",
      "metadata": {
        "colab": {
          "base_uri": "https://localhost:8080/"
        },
        "id": "GkiUXiXksycl",
        "outputId": "9a64816c-76d5-45d0-d39a-f9338a48028e"
      },
      "source": [
        "from array import *\n",
        "\n",
        "arr1 = array('i',[1,2,3,4,5])\n",
        "print(arr1)\n",
        "\n",
        "# here 'i' is the type code which is the type pf thr content of the array"
      ],
      "execution_count": null,
      "outputs": [
        {
          "output_type": "stream",
          "name": "stdout",
          "text": [
            "array('i', [1, 2, 3, 4, 5])\n"
          ]
        }
      ]
    },
    {
      "cell_type": "code",
      "metadata": {
        "colab": {
          "base_uri": "https://localhost:8080/"
        },
        "id": "uaIIbmUjtIol",
        "outputId": "cb6ceab7-bd7c-441d-c5a3-5ba4b748475e"
      },
      "source": [
        "arr1.append(6)\n",
        "arr1\n",
        "arr1.pop(5)\n",
        "arr1"
      ],
      "execution_count": null,
      "outputs": [
        {
          "output_type": "execute_result",
          "data": {
            "text/plain": [
              "array('i', [1, 2, 3, 4, 5, 6, 6])"
            ]
          },
          "metadata": {},
          "execution_count": 7
        }
      ]
    },
    {
      "cell_type": "code",
      "metadata": {
        "colab": {
          "base_uri": "https://localhost:8080/"
        },
        "id": "lWFWgfhRtYB0",
        "outputId": "358275d6-d50f-4aa9-cdec-c4ce1d096f72"
      },
      "source": [
        "arr1.insert(0,0)\n",
        "arr1"
      ],
      "execution_count": null,
      "outputs": [
        {
          "output_type": "execute_result",
          "data": {
            "text/plain": [
              "array('i', [0, 0, 1, 1, 2, 3, 4, 5, 6, 6])"
            ]
          },
          "metadata": {},
          "execution_count": 12
        }
      ]
    },
    {
      "cell_type": "code",
      "metadata": {
        "colab": {
          "base_uri": "https://localhost:8080/"
        },
        "id": "GzT78w3rum0k",
        "outputId": "98cd918a-e00d-4708-b91c-7565604d565d"
      },
      "source": [
        "arr1.pop(2)\n",
        "arr1\n",
        "\n",
        "'''\n",
        "pop() takes index\n",
        "remove() takes value\n",
        "'''"
      ],
      "execution_count": null,
      "outputs": [
        {
          "output_type": "execute_result",
          "data": {
            "text/plain": [
              "array('i', [0, 1, 2, 3, 4, 5, 6])"
            ]
          },
          "metadata": {},
          "execution_count": 15
        }
      ]
    },
    {
      "cell_type": "markdown",
      "metadata": {
        "id": "cBOWYVpbuR78"
      },
      "source": [
        "Time Complexities\n",
        "1. Array Traversal-O(n)\n",
        "2. INsertion ins the beginiing - O(n)\n",
        "3. Insertion at the end - O(1)\n",
        "4. INsertion on a full array at the end - O(n)"
      ]
    },
    {
      "cell_type": "code",
      "metadata": {
        "colab": {
          "base_uri": "https://localhost:8080/"
        },
        "id": "7bfOqNhswRIX",
        "outputId": "464e9115-204f-4208-d58b-2cc6156c3ddd"
      },
      "source": [
        "#Create an array and traverse\n",
        "arr = array('i',[1,2,3,3,4])\n",
        "arr"
      ],
      "execution_count": null,
      "outputs": [
        {
          "output_type": "execute_result",
          "data": {
            "text/plain": [
              "array('i', [1, 2, 3, 3, 4])"
            ]
          },
          "metadata": {},
          "execution_count": 20
        }
      ]
    },
    {
      "cell_type": "code",
      "metadata": {
        "colab": {
          "base_uri": "https://localhost:8080/"
        },
        "id": "G9VL1fhMwcVM",
        "outputId": "b62901de-aab9-44c9-c07a-7726245fe469"
      },
      "source": [
        "#Access individual element through index\n",
        "arr[2]"
      ],
      "execution_count": null,
      "outputs": [
        {
          "output_type": "execute_result",
          "data": {
            "text/plain": [
              "3"
            ]
          },
          "metadata": {},
          "execution_count": 21
        }
      ]
    },
    {
      "cell_type": "code",
      "metadata": {
        "id": "IbiG9lQowkH8"
      },
      "source": [
        "#Append value using append() method\n",
        "arr.append(5)"
      ],
      "execution_count": null,
      "outputs": []
    },
    {
      "cell_type": "code",
      "metadata": {
        "colab": {
          "base_uri": "https://localhost:8080/"
        },
        "id": "ziYwfPFrwrnG",
        "outputId": "a610f338-100d-47b7-d9aa-1c06ee13ecac"
      },
      "source": [
        "#insert value into array using insert()\n",
        "arr.insert(0,0)\n",
        "arr"
      ],
      "execution_count": null,
      "outputs": [
        {
          "output_type": "execute_result",
          "data": {
            "text/plain": [
              "array('i', [0, 1, 2, 3, 3, 4, 5])"
            ]
          },
          "metadata": {},
          "execution_count": 23
        }
      ]
    },
    {
      "cell_type": "code",
      "metadata": {
        "colab": {
          "base_uri": "https://localhost:8080/"
        },
        "id": "ZsHxFtzvwxrd",
        "outputId": "b7311cb7-fedb-48ef-8ae3-9fa0af4ec778"
      },
      "source": [
        "#Extend python array using extend() method\n",
        "arr.extend([7,8,9])\n",
        "arr"
      ],
      "execution_count": null,
      "outputs": [
        {
          "output_type": "execute_result",
          "data": {
            "text/plain": [
              "array('i', [0, 1, 2, 3, 3, 4, 5, 7, 8, 9])"
            ]
          },
          "metadata": {},
          "execution_count": 24
        }
      ]
    },
    {
      "cell_type": "code",
      "metadata": {
        "colab": {
          "base_uri": "https://localhost:8080/"
        },
        "id": "blRiTbAyw_Qs",
        "outputId": "066889f5-f230-4b39-8b94-980e22cc7726"
      },
      "source": [
        "# add items to array fromlist using fromlist()\n",
        "lst = [10,11,12]\n",
        "arr.fromlist(lst)\n",
        "arr"
      ],
      "execution_count": null,
      "outputs": [
        {
          "output_type": "execute_result",
          "data": {
            "text/plain": [
              "array('i', [0, 1, 2, 3, 3, 4, 5, 7, 8, 9, 10, 11, 12])"
            ]
          },
          "metadata": {},
          "execution_count": 25
        }
      ]
    },
    {
      "cell_type": "code",
      "metadata": {
        "colab": {
          "base_uri": "https://localhost:8080/"
        },
        "id": "KiGfAHkvxNat",
        "outputId": "be545511-2c80-42e1-93a1-6c2af7c649a7"
      },
      "source": [
        "#remove element using remove()\n",
        "arr.remove(12)\n",
        "arr"
      ],
      "execution_count": null,
      "outputs": [
        {
          "output_type": "execute_result",
          "data": {
            "text/plain": [
              "array('i', [0, 1, 2, 3, 3, 4, 5, 7, 8, 9, 10, 11])"
            ]
          },
          "metadata": {},
          "execution_count": 26
        }
      ]
    },
    {
      "cell_type": "code",
      "metadata": {
        "colab": {
          "base_uri": "https://localhost:8080/"
        },
        "id": "JrErT-NQxTTs",
        "outputId": "f5fc2eed-bc3b-4bbf-929a-ba527d883aa0"
      },
      "source": [
        "#using pop()\n",
        "arr.pop()"
      ],
      "execution_count": null,
      "outputs": [
        {
          "output_type": "execute_result",
          "data": {
            "text/plain": [
              "11"
            ]
          },
          "metadata": {},
          "execution_count": 27
        }
      ]
    },
    {
      "cell_type": "code",
      "metadata": {
        "colab": {
          "base_uri": "https://localhost:8080/"
        },
        "id": "rGAbFPtYxWR9",
        "outputId": "dad601b7-e7d9-4f0d-dc8b-acb0a2b5ff63"
      },
      "source": [
        "arr"
      ],
      "execution_count": null,
      "outputs": [
        {
          "output_type": "execute_result",
          "data": {
            "text/plain": [
              "array('i', [0, 1, 2, 3, 3, 4, 5, 7, 8, 9, 10])"
            ]
          },
          "metadata": {},
          "execution_count": 28
        }
      ]
    },
    {
      "cell_type": "code",
      "metadata": {
        "colab": {
          "base_uri": "https://localhost:8080/"
        },
        "id": "iRZMknllxXf9",
        "outputId": "fb1df45c-9a93-4e77-b344-3509c400c9f7"
      },
      "source": [
        "#fetch elemnt using index()\n",
        "arr.index(2)"
      ],
      "execution_count": null,
      "outputs": [
        {
          "output_type": "execute_result",
          "data": {
            "text/plain": [
              "2"
            ]
          },
          "metadata": {},
          "execution_count": 29
        }
      ]
    },
    {
      "cell_type": "code",
      "metadata": {
        "colab": {
          "base_uri": "https://localhost:8080/"
        },
        "id": "O99Qio9fxd7V",
        "outputId": "fca27954-084d-4f19-c137-663876489630"
      },
      "source": [
        "#reverse using revserse()\n",
        "arr.reverse()\n",
        "arr"
      ],
      "execution_count": null,
      "outputs": [
        {
          "output_type": "execute_result",
          "data": {
            "text/plain": [
              "array('i', [10, 9, 8, 7, 5, 4, 3, 3, 2, 1, 0])"
            ]
          },
          "metadata": {},
          "execution_count": 30
        }
      ]
    },
    {
      "cell_type": "code",
      "metadata": {
        "colab": {
          "base_uri": "https://localhost:8080/"
        },
        "id": "ZbOeYXQ9xlVU",
        "outputId": "3b6e8547-c956-458d-e1d7-00ffe9c20643"
      },
      "source": [
        "#get buffer info\n",
        "arr.buffer_info()\n",
        "# the (memory address, no of elements) is obtained"
      ],
      "execution_count": null,
      "outputs": [
        {
          "output_type": "execute_result",
          "data": {
            "text/plain": [
              "(140412617395616, 11)"
            ]
          },
          "metadata": {},
          "execution_count": 31
        }
      ]
    },
    {
      "cell_type": "code",
      "metadata": {
        "colab": {
          "base_uri": "https://localhost:8080/"
        },
        "id": "I2ljZlyFx1l2",
        "outputId": "ebf551b9-581d-439e-999d-b2e9c79ad9be"
      },
      "source": [
        "#check number of occurences\n",
        "arr.count(3)"
      ],
      "execution_count": null,
      "outputs": [
        {
          "output_type": "execute_result",
          "data": {
            "text/plain": [
              "2"
            ]
          },
          "metadata": {},
          "execution_count": 32
        }
      ]
    },
    {
      "cell_type": "code",
      "metadata": {
        "colab": {
          "base_uri": "https://localhost:8080/",
          "height": 178
        },
        "id": "Yitr0UX8x8Md",
        "outputId": "3f81df04-dae6-4c3f-b02c-c7a64a5d8b0e"
      },
      "source": [
        "#convert array to stinrg\n",
        "print(arr.to_string())"
      ],
      "execution_count": null,
      "outputs": [
        {
          "output_type": "error",
          "ename": "AttributeError",
          "evalue": "ignored",
          "traceback": [
            "\u001b[0;31m---------------------------------------------------------------------------\u001b[0m",
            "\u001b[0;31mAttributeError\u001b[0m                            Traceback (most recent call last)",
            "\u001b[0;32m<ipython-input-35-62ab8fc779ce>\u001b[0m in \u001b[0;36m<module>\u001b[0;34m()\u001b[0m\n\u001b[1;32m      1\u001b[0m \u001b[0;31m#convert array to stinrg\u001b[0m\u001b[0;34m\u001b[0m\u001b[0;34m\u001b[0m\u001b[0;34m\u001b[0m\u001b[0m\n\u001b[0;32m----> 2\u001b[0;31m \u001b[0mprint\u001b[0m\u001b[0;34m(\u001b[0m\u001b[0marr\u001b[0m\u001b[0;34m.\u001b[0m\u001b[0mto_string\u001b[0m\u001b[0;34m(\u001b[0m\u001b[0;34m)\u001b[0m\u001b[0;34m)\u001b[0m\u001b[0;34m\u001b[0m\u001b[0;34m\u001b[0m\u001b[0m\n\u001b[0m",
            "\u001b[0;31mAttributeError\u001b[0m: 'array.array' object has no attribute 'to_string'"
          ]
        }
      ]
    },
    {
      "cell_type": "code",
      "metadata": {
        "colab": {
          "base_uri": "https://localhost:8080/"
        },
        "id": "Em5fSu53yNW-",
        "outputId": "4a8c659d-4715-48c9-c64f-e43cacd775b8"
      },
      "source": [
        "#array ---> list\n",
        "print(arr.tolist())"
      ],
      "execution_count": null,
      "outputs": [
        {
          "output_type": "stream",
          "name": "stdout",
          "text": [
            "[10, 9, 8, 7, 5, 4, 3, 3, 2, 1, 0]\n"
          ]
        }
      ]
    },
    {
      "cell_type": "code",
      "metadata": {
        "colab": {
          "base_uri": "https://localhost:8080/"
        },
        "id": "RvgY3nISypW2",
        "outputId": "9e52d069-4b0c-405f-bf48-dc9f77982458"
      },
      "source": [
        "#slice elements\n",
        "arr[1:5]"
      ],
      "execution_count": null,
      "outputs": [
        {
          "output_type": "execute_result",
          "data": {
            "text/plain": [
              "array('i', [9, 8, 7, 5])"
            ]
          },
          "metadata": {},
          "execution_count": 37
        }
      ]
    },
    {
      "cell_type": "code",
      "metadata": {
        "colab": {
          "base_uri": "https://localhost:8080/"
        },
        "id": "WUjsnlfGSqzV",
        "outputId": "e8964550-bb06-4518-8c9d-caeb3db674ca"
      },
      "source": [
        "#find the missing number\n",
        "import numpy as np\n",
        "\n",
        "def findMissing(lst):\n",
        "  sum = np.sum(lst)\n",
        "  n = len(lst)+1\n",
        "  SUM = n*(n+1)/2\n",
        "  print('This is the missing number {}'.format(SUM-sum))\n",
        "\n",
        "arr = np.array([1,2,3,4,5,6,7,8,10])\n",
        "findMissing(arr)"
      ],
      "execution_count": null,
      "outputs": [
        {
          "output_type": "stream",
          "name": "stdout",
          "text": [
            "This is the missing number 9.0\n"
          ]
        }
      ]
    },
    {
      "cell_type": "code",
      "metadata": {
        "colab": {
          "base_uri": "https://localhost:8080/"
        },
        "id": "_jh8cEnBU7sN",
        "outputId": "b8dd5ddd-3c49-45ee-b715-c08f02c811b9"
      },
      "source": [
        "'''\n",
        "INPUT AN ARRAY AND OUTPUT THE PAIR OF NUMBERS HAVING THE SUM EQUAL TO THE TARGET\n",
        "'''\n",
        "\n",
        "def findPair(lst,target):\n",
        "  for i in lst:\n",
        "    for j in lst:\n",
        "      if((i+j) == target):\n",
        "        print((i,j))\n",
        "\n",
        "\n",
        "\n",
        "lst = [2,6,3,9,11]\n",
        "target = 9\n",
        "\n",
        "findPair(lst,target)"
      ],
      "execution_count": null,
      "outputs": [
        {
          "output_type": "stream",
          "name": "stdout",
          "text": [
            "(6, 3)\n",
            "(3, 6)\n"
          ]
        }
      ]
    },
    {
      "cell_type": "code",
      "metadata": {
        "colab": {
          "base_uri": "https://localhost:8080/"
        },
        "id": "owvSpXkUOM9m",
        "outputId": "eaf380c3-2692-436f-cb29-5754f937e4b7"
      },
      "source": [
        "#Find the maximum product of two integers in an array\n",
        "import numpy as np\n",
        "\n",
        "def maxProduct(arr):\n",
        "  max = 0\n",
        "  for i in range(len(arr)):\n",
        "    for j in range(i+1,len(arr)):\n",
        "      if(arr[i]*arr[j] > max):\n",
        "        max = arr[i]*arr[j]\n",
        "\n",
        "  return [max,(i,j)]\n",
        "\n",
        "\n",
        "\n",
        "arr = np.array([1,20,30,44,5,56,57,8,9,10,31,12,13,14,35,16,27,58,19,21])\n",
        "maxProduct(arr)"
      ],
      "execution_count": null,
      "outputs": [
        {
          "output_type": "execute_result",
          "data": {
            "text/plain": [
              "[3306, (19, 19)]"
            ]
          },
          "metadata": {},
          "execution_count": 5
        }
      ]
    },
    {
      "cell_type": "code",
      "metadata": {
        "colab": {
          "base_uri": "https://localhost:8080/"
        },
        "id": "_4o2mBsCPO_e",
        "outputId": "0a1337c3-a5cc-4744-f5b7-919b5347e336"
      },
      "source": [
        "#find if the list has only unique numbers\n",
        "arr = [1,20,30,44,5,56,57,8,9,10,31,12,13,14,35,16,27,58,19,21]\n",
        "st = set(arr)\n",
        "if(len(arr) != len(set(arr))):\n",
        "  print(\"There are dupliactes\")\n",
        "else:\n",
        "  print(\"There aren't any duplicates\")"
      ],
      "execution_count": null,
      "outputs": [
        {
          "output_type": "stream",
          "name": "stdout",
          "text": [
            "There are dupliactes\n"
          ]
        }
      ]
    },
    {
      "cell_type": "code",
      "metadata": {
        "colab": {
          "base_uri": "https://localhost:8080/"
        },
        "id": "hQIPJOS1QL9p",
        "outputId": "71579a0f-fee2-4ca0-a6f8-a5018da41b93"
      },
      "source": [
        "#Given two strings find is one is the perumtation of another\n",
        "def splitter(word):\n",
        "  lst = []\n",
        "  for i in word:\n",
        "    lst.append(i)\n",
        "  return lst.sort()\n",
        "\n",
        "def permutationChecker(word1,word2):\n",
        "  print('yes') if splitter(word1) == splitter(word2) else print('no')\n",
        "\n",
        "\n",
        "word1 = 'aswin'\n",
        "word2 = 'niwsa'\n",
        "\n",
        "permutationChecker(word1,word2)"
      ],
      "execution_count": null,
      "outputs": [
        {
          "output_type": "stream",
          "name": "stdout",
          "text": [
            "yes\n"
          ]
        }
      ]
    },
    {
      "cell_type": "code",
      "metadata": {
        "colab": {
          "base_uri": "https://localhost:8080/"
        },
        "id": "8DA6Sn6jS4wN",
        "outputId": "8e42d515-dae3-4c26-b101-69e87c02f2f8"
      },
      "source": [
        "#Rotate matrix by 90\n",
        "\n",
        "def edgeswap(mat): \n",
        "  mat[0][len(mat)-1],mat[0][0] = mat[0][0],mat[0][len(mat)-1]\n",
        "  mat[0][0],mat[len(mat)-1][0] = mat[len(mat)-1][0],mat[0][0]\n",
        "  mat[len(mat)-1][0],mat[len(mat)-1][len(mat)-1] = mat[len(mat)-1][len(mat)-1],mat[len(mat)-1][0]\n",
        "  return mat\n",
        "\n",
        "def middleswap(mat):\n",
        "  n = len(mat)\n",
        "  mat[n//2][n-1],mat[0][n//2] = mat[0][n//2],mat[n//2][n-1]\n",
        "  mat[0][n//2],mat[n//2][0] = mat[n//2][0],mat[0][n//2]\n",
        "  mat[n//2][0],mat[n-1][n//2] = mat[n-1][n//2],mat[n//2][0]\n",
        "  return mat\n",
        "mat = [\n",
        "       [1,2,3],\n",
        "       [4,5,6],\n",
        "       [7,8,9]\n",
        "      ]\n",
        "\n",
        "mat = edgeswap(mat)\n",
        "final_mat = middleswap(mat)\n",
        "for layer in final_mat:\n",
        "  print(layer)"
      ],
      "execution_count": null,
      "outputs": [
        {
          "output_type": "stream",
          "name": "stdout",
          "text": [
            "[7, 4, 1]\n",
            "[8, 5, 2]\n",
            "[9, 6, 3]\n"
          ]
        }
      ]
    },
    {
      "cell_type": "code",
      "metadata": {
        "id": "IYBgjENEJGYD"
      },
      "source": [
        ""
      ],
      "execution_count": null,
      "outputs": []
    },
    {
      "cell_type": "code",
      "metadata": {
        "colab": {
          "base_uri": "https://localhost:8080/"
        },
        "id": "05u6Ls-1JGnG",
        "outputId": "0d2ed0f6-3fb3-4f8b-adb1-297a77b67a14"
      },
      "source": [
        "def firstSecond(givenList):\n",
        "    # TODO\n",
        "    st = set(givenList)\n",
        "    lst = list(st)\n",
        "    nlst = sorted(lst)\n",
        "    return (nlst[0],nlst[len(nlst)-1])\n",
        "givenList = [45,23,67,0,100]\n",
        "firstSecond(givenList)"
      ],
      "execution_count": null,
      "outputs": [
        {
          "output_type": "execute_result",
          "data": {
            "text/plain": [
              "(0, 100)"
            ]
          },
          "metadata": {},
          "execution_count": 1
        }
      ]
    },
    {
      "cell_type": "code",
      "metadata": {
        "colab": {
          "base_uri": "https://localhost:8080/"
        },
        "id": "ygBTgNN2NHSy",
        "outputId": "04f41600-6e2b-46e7-a1da-574fbef9f429"
      },
      "source": [
        "init_tuple = ()\n",
        "print (init_tuple.__len__())"
      ],
      "execution_count": null,
      "outputs": [
        {
          "output_type": "stream",
          "name": "stdout",
          "text": [
            "0\n"
          ]
        }
      ]
    },
    {
      "cell_type": "code",
      "metadata": {
        "id": "ZH4UHILLNhhV",
        "colab": {
          "base_uri": "https://localhost:8080/"
        },
        "outputId": "47253a16-c500-4125-a447-4a61166daeff"
      },
      "source": [
        "init_tuple = [(0, 1), (1, 2), (2, 3)]\n",
        " \n",
        "result = sum(n for _, n in init_tuple)\n",
        " \n",
        "print(result)\n",
        "\n",
        "\n"
      ],
      "execution_count": null,
      "outputs": [
        {
          "output_type": "stream",
          "name": "stdout",
          "text": [
            "6\n"
          ]
        }
      ]
    },
    {
      "cell_type": "markdown",
      "metadata": {
        "id": "z6xLFmqDCVVh"
      },
      "source": [
        "<h1>Singly Linked List</h1>\n",
        "<hr/>\n",
        "\n"
      ]
    },
    {
      "cell_type": "code",
      "metadata": {
        "id": "xqaIm6rxCT_5"
      },
      "source": [
        "#creating a single linked list\n",
        "\n",
        "class Node:\n",
        "  def __init__(self,value=None):\n",
        "    self.value = value\n",
        "    self.next = None\n",
        "\n",
        "class SingleLinkedList:\n",
        "  def __init__(self):\n",
        "    self.head = None\n",
        "    self.tail = None\n",
        "\n",
        "sll = SingleLinkedList()\n",
        "node1 = Node(1)\n",
        "node2 = Node(2)\n",
        "\n",
        "sll.head = node1\n",
        "sll.tail = node2\n",
        "sll.head.next = node2"
      ],
      "execution_count": null,
      "outputs": []
    },
    {
      "cell_type": "code",
      "metadata": {
        "id": "1o2zMoudSL_U"
      },
      "source": [
        "'''\n",
        "#Linked list insertion\n",
        "\n",
        "class Node:\n",
        "  def __init__(self,value=None):\n",
        "    self.value = value\n",
        "    self.next = None \n",
        "\n",
        "class LinkedList:\n",
        "  def __init__(self):\n",
        "    self.head = None\n",
        "    self.tail = None\n",
        "\n",
        "  def add_begin(self,value):\n",
        "    newNode = Node(value)\n",
        "    newNode.next = self.head\n",
        "    self.head = newNode\n",
        "\n",
        "  def add_end(self,value):\n",
        "    newNode = Node(value)\n",
        "    if self.head == None:\n",
        "      newNode.next = self.head\n",
        "      self.head = newNode\n",
        "    else:\n",
        "      n = self.head\n",
        "      while n.next is not None:\n",
        "        n = n.next\n",
        "      n.next = newNode\n",
        "    \n",
        "  def traverse(self):\n",
        "    if (self.head == None):\n",
        "      print(\"The list is empty\")\n",
        "    else:\n",
        "      index = self.head\n",
        "      while index is not None:\n",
        "        print(\"The value {} is in {} the next index is {}\".format(index.value,index,index.next))\n",
        "        index = index.next \n",
        "\n",
        "    \n",
        "  def end_point(self):\n",
        "    if(self.head is None):\n",
        "      print(\"it is empty\")\n",
        "    else:\n",
        "      print(\"It is not empty\")\n",
        "      print(\"Head value is {}, is and tail value is {}\".format(self.head,self.tail))\n",
        "\n",
        "linkedlist = LinkedList()\n",
        "'''"
      ],
      "execution_count": null,
      "outputs": []
    },
    {
      "cell_type": "code",
      "metadata": {
        "id": "3YjUtp-rTaHl"
      },
      "source": [
        "'''\n",
        "linkedlist.add_begin(0)\n",
        "linkedlist.add_end(99)\n",
        "'''"
      ],
      "execution_count": null,
      "outputs": []
    },
    {
      "cell_type": "code",
      "metadata": {
        "id": "GxegL57jKxAr"
      },
      "source": [
        "class Node:\n",
        "  def __init__(self,value):\n",
        "    self.value = value\n",
        "    self.next = None\n",
        "\n",
        "class LinkedList:\n",
        "  def __init__(self):\n",
        "    self.head = None\n",
        "\n",
        "  #To insert at the beginning\n",
        "\n",
        "  def push(self,new_data):\n",
        "    new_node = Node(new_data)\n",
        "    new_node.next = self.head\n",
        "    self.head = new_node\n",
        "\n",
        "  #To insert after, we are given a pointer to the node\n",
        "\n",
        "  def insertAfter(self,prev_node,new_data):\n",
        "    if prev_node is None:\n",
        "      print(\"prev_node is None\")\n",
        "      return\n",
        "    \n",
        "    new_node = Node(new_data)\n",
        "    new_node.next = prev_node.next\n",
        "    prev_node.next = new_node\n",
        "\n",
        "  #To insert at the end\n",
        "  def append(self,new_data):\n",
        "    new_node = Node(new_data)\n",
        "    \n",
        "    if self.head is None:\n",
        "      self.head = new_node\n",
        "      return\n",
        "\n",
        "    index = self.head\n",
        "    while index.next:\n",
        "      index = index.next\n",
        "    \n",
        "    index.next = new_node\n",
        "\n",
        "\n",
        "  #To traverse the linked list\n",
        "\n",
        "  def traverse(self):\n",
        "    index = self.head\n",
        "    while index is not None:\n",
        "      print(\"The value is {} and the index is {} and the next index is {}\".format(index.value,index,index.next))\n",
        "      index = index.next\n",
        "\n",
        "  def findNode(self,val):\n",
        "    index = self.head\n",
        "    while index is not None:\n",
        "      if (index.value == val):\n",
        "        return index\n",
        "      else:\n",
        "        index = index.next\n",
        "\n",
        "\n",
        "  def delNode(self,key):\n",
        "    temp = self.head\n",
        "    while temp != None:\n",
        "      if (temp.value != key ):\n",
        "        prev = temp\n",
        "        print(\"The current node has value {}\".format(temp.value))\n",
        "        temp = temp.next\n",
        "      else:\n",
        "        prev.next = temp.next\n",
        "        temp = None\n",
        "        print(\"Node deleted\")\n",
        "\n",
        "  def delete_linkedlist(self):\n",
        "    self.head = None\n",
        "    #Garbage collection will delete the list"
      ],
      "execution_count": null,
      "outputs": []
    },
    {
      "cell_type": "code",
      "metadata": {
        "colab": {
          "base_uri": "https://localhost:8080/"
        },
        "id": "eEByDdUmNlXu",
        "outputId": "1e16ba95-dc45-4fc1-f1cc-9cad1084ba9b"
      },
      "source": [
        "llist = LinkedList()\n",
        "\n",
        "# Inserts 6.  So linked list becomes 6->None\n",
        "llist.append(6)\n",
        "\n",
        "# Inserts 7 at the beginning. So linked list becomes 7->6->None\n",
        "llist.push(7);\n",
        " \n",
        "# Inserts 1 at the beginning. So linked list becomes 1->7->6->None\n",
        "llist.push(1);\n",
        " \n",
        "# Inserts 4 at the end. So linked list becomes 1->7->6->4->None\n",
        "llist.append(4)\n",
        " \n",
        "# Inserts 8, after 7. So linked list becomes 1 -> 7-> 8-> 6-> 4-> None\n",
        "llist.insertAfter(llist.head.next, 8)\n",
        "\n",
        "print('Created linked list is:')\n",
        "llist.traverse()\n"
      ],
      "execution_count": null,
      "outputs": [
        {
          "output_type": "stream",
          "name": "stdout",
          "text": [
            "Created linked list is:\n",
            "The value is 1 and the index is <__main__.Node object at 0x7f716b102d90> and the next index is <__main__.Node object at 0x7f716b102d50>\n",
            "The value is 7 and the index is <__main__.Node object at 0x7f716b102d50> and the next index is <__main__.Node object at 0x7f716b102e10>\n",
            "The value is 8 and the index is <__main__.Node object at 0x7f716b102e10> and the next index is <__main__.Node object at 0x7f716b102cd0>\n",
            "The value is 6 and the index is <__main__.Node object at 0x7f716b102cd0> and the next index is <__main__.Node object at 0x7f716b102dd0>\n",
            "The value is 4 and the index is <__main__.Node object at 0x7f716b102dd0> and the next index is None\n"
          ]
        }
      ]
    },
    {
      "cell_type": "code",
      "metadata": {
        "id": "WbmC1jnTOmQM",
        "colab": {
          "base_uri": "https://localhost:8080/"
        },
        "outputId": "bc1b74a2-fc5c-4195-9d32-94c34584c7ec"
      },
      "source": [
        "print(llist.findNode(8))"
      ],
      "execution_count": null,
      "outputs": [
        {
          "output_type": "stream",
          "name": "stdout",
          "text": [
            "<__main__.Node object at 0x7f716b102e10>\n"
          ]
        }
      ]
    },
    {
      "cell_type": "code",
      "metadata": {
        "colab": {
          "base_uri": "https://localhost:8080/"
        },
        "id": "mH4YKVQnxAyn",
        "outputId": "071e8bf6-048a-428b-f490-929340647932"
      },
      "source": [
        "llist.delNode(8)"
      ],
      "execution_count": null,
      "outputs": [
        {
          "output_type": "stream",
          "name": "stdout",
          "text": [
            "The current node has value 1\n",
            "The current node has value 7\n",
            "Node deleted\n"
          ]
        }
      ]
    },
    {
      "cell_type": "code",
      "metadata": {
        "colab": {
          "base_uri": "https://localhost:8080/"
        },
        "id": "Rw1qvLRxyKDc",
        "outputId": "5121dc3a-8dfd-42aa-8b0c-b387ed61ff04"
      },
      "source": [
        "print('Created linked list is:')\n",
        "llist.traverse()"
      ],
      "execution_count": null,
      "outputs": [
        {
          "output_type": "stream",
          "name": "stdout",
          "text": [
            "Created linked list is:\n",
            "The value is 1 and the index is <__main__.Node object at 0x7f716b102d90> and the next index is <__main__.Node object at 0x7f716b102d50>\n",
            "The value is 7 and the index is <__main__.Node object at 0x7f716b102d50> and the next index is <__main__.Node object at 0x7f716b102cd0>\n",
            "The value is 6 and the index is <__main__.Node object at 0x7f716b102cd0> and the next index is <__main__.Node object at 0x7f716b102dd0>\n",
            "The value is 4 and the index is <__main__.Node object at 0x7f716b102dd0> and the next index is None\n"
          ]
        }
      ]
    },
    {
      "cell_type": "code",
      "metadata": {
        "id": "zMRFa4nbpBk9"
      },
      "source": [
        "llist.delete_linkedlist()"
      ],
      "execution_count": null,
      "outputs": []
    },
    {
      "cell_type": "markdown",
      "metadata": {
        "id": "z4_BRC8aT265"
      },
      "source": [
        "<h1>Circular Singly Linked List</h1>"
      ]
    },
    {
      "cell_type": "code",
      "metadata": {
        "id": "yLBpMA6hT9NW"
      },
      "source": [
        "class Node:\n",
        "  def __init__(self,data):\n",
        "    self.data = data\n",
        "    self.next = None\n",
        "\n",
        "class CSL:\n",
        "\n",
        "  def __init__(self):\n",
        "    self.head = None\n",
        "    print('created a circular linked list.')\n",
        "  \n",
        "  def createCSL(self, data):\n",
        "    node = Node(data)\n",
        "    self.head = Node\n",
        "    self.tail = Node\n",
        "    node.next = Node\n",
        "\n",
        "  def push(self,data):\n",
        "    temp = self.head\n",
        "    while temp.next != self.head:\n",
        "      temp = temp.next\n",
        "    node = Node(data)\n",
        "    temp.next = node\n",
        "    self.tail = node\n",
        "    node.next = self.head\n",
        "\n",
        "  def insert(self,data,location):\n",
        "    if (location == 0):\n",
        "      #we need to insert at the start\n",
        "      node = Node(data)\n",
        "      node.next = self.head\n",
        "      self.head = Node\n",
        "      self.tail.next = node\n",
        "    \n",
        "    elif (location == 1):\n",
        "      #we need to add at the end\n",
        "      node = Node(data)\n",
        "      self.tail.next = node\n",
        "      self.tail = node\n",
        "      node.next = self.head\n",
        "\n",
        "    else:\n",
        "      index = 0\n",
        "      temp = self.head\n",
        "      while index < location-1:\n",
        "        temp = temp.next\n",
        "        index +=1\n",
        "      node.next = temp.next\n",
        "      temp.next = node\n",
        "\n",
        "  def loopthrough(self):\n",
        "    temp = self.head\n",
        "    while (temp.next != self.head):\n",
        "      print(\"The current index in {} and the next index is {}.\".format(temp,temp.next))\n",
        "      temp = temp.next\n",
        "    print(self.tail)\n",
        "      "
      ],
      "execution_count": 63,
      "outputs": []
    },
    {
      "cell_type": "code",
      "metadata": {
        "id": "eB4PqTR5Qyiz"
      },
      "source": [
        "csl1 = CSL()\n",
        "csl1.createCSL(1)\n",
        "csl1.push(2)\n",
        "csl1.push(3)\n",
        "csl1.push(4)\n",
        "csl1.push(5)\n",
        "csl1.loopthrough()\n"
      ],
      "execution_count": null,
      "outputs": []
    }
  ]
}