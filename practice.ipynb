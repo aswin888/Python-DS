{
  "nbformat": 4,
  "nbformat_minor": 0,
  "metadata": {
    "colab": {
      "name": "practice",
      "provenance": [],
      "authorship_tag": "ABX9TyMkglqBhnxcxAwn4UksAiX+",
      "include_colab_link": true
    },
    "kernelspec": {
      "name": "python3",
      "display_name": "Python 3"
    },
    "language_info": {
      "name": "python"
    }
  },
  "cells": [
    {
      "cell_type": "markdown",
      "metadata": {
        "id": "view-in-github",
        "colab_type": "text"
      },
      "source": [
        "<a href=\"https://colab.research.google.com/github/aswin888/meh/blob/main/practice.ipynb\" target=\"_parent\"><img src=\"https://colab.research.google.com/assets/colab-badge.svg\" alt=\"Open In Colab\"/></a>"
      ]
    },
    {
      "cell_type": "markdown",
      "metadata": {
        "id": "W3ICK43-6o8g"
      },
      "source": [
        "<h1>1.Recursion</h1>\n",
        "<hr>"
      ]
    },
    {
      "cell_type": "code",
      "metadata": {
        "id": "3R5mBiLALikq",
        "colab": {
          "base_uri": "https://localhost:8080/"
        },
        "outputId": "cb70a0b8-bcc6-4c71-e95f-08a57e841dae"
      },
      "source": [
        "def recursiveMethod(n):\n",
        "  if(n<1):\n",
        "    print(\"n is less than 1, base condition\")\n",
        "  else:\n",
        "    recursiveMethod(n-1)\n",
        "    print(n)\n",
        "\n",
        "recursiveMethod(4)\n",
        "\n",
        "'''\n",
        "STACK MEMORY\n",
        "'''"
      ],
      "execution_count": null,
      "outputs": [
        {
          "output_type": "stream",
          "name": "stdout",
          "text": [
            "n is less than 1, base condition\n",
            "1\n",
            "2\n",
            "3\n",
            "4\n"
          ]
        }
      ]
    },
    {
      "cell_type": "code",
      "metadata": {
        "colab": {
          "base_uri": "https://localhost:8080/"
        },
        "id": "R7jcAJmoFH4u",
        "outputId": "00241b8c-c7be-433d-d051-f2057d4a21bc"
      },
      "source": [
        "def factorial(n):\n",
        "  if(n == 0):\n",
        "    return 1\n",
        "  else:\n",
        "    return n * factorial(n-1)\n",
        "\n",
        "print(factorial(4))"
      ],
      "execution_count": 6,
      "outputs": [
        {
          "output_type": "stream",
          "name": "stdout",
          "text": [
            "24\n"
          ]
        }
      ]
    },
    {
      "cell_type": "code",
      "metadata": {
        "colab": {
          "base_uri": "https://localhost:8080/"
        },
        "id": "YvbE_3GJGnge",
        "outputId": "ce62208d-e081-4031-b6fb-0f351f9bd4e4"
      },
      "source": [
        "def fibo(n):\n",
        "  assert n>0 and n == int(n), \"Error input\"\n",
        "  if(n==1):\n",
        "    return 0\n",
        "  if(n == 2):\n",
        "    return 1\n",
        "  else:\n",
        "    return fibo(n-1)+fibo(n-2)\n",
        "\n",
        "print(fibo(10))"
      ],
      "execution_count": 19,
      "outputs": [
        {
          "output_type": "stream",
          "name": "stdout",
          "text": [
            "34\n"
          ]
        }
      ]
    },
    {
      "cell_type": "code",
      "metadata": {
        "colab": {
          "base_uri": "https://localhost:8080/"
        },
        "id": "UfMqmNePJI5P",
        "outputId": "35feb35d-e87f-47dd-fe65-14126e72ca90"
      },
      "source": [
        "def Sum(n):\n",
        "  if(n==0):\n",
        "    return 0\n",
        "  else:\n",
        "    return n+Sum(n-1)\n",
        "\n",
        "print(Sum(5))"
      ],
      "execution_count": 24,
      "outputs": [
        {
          "output_type": "stream",
          "name": "stdout",
          "text": [
            "15\n"
          ]
        }
      ]
    },
    {
      "cell_type": "code",
      "metadata": {
        "colab": {
          "base_uri": "https://localhost:8080/"
        },
        "id": "JHAQdZa5Jksz",
        "outputId": "6eded163-bb47-471b-f645-055bef267df6"
      },
      "source": [
        "#sum of digits in the number\n",
        "def Sum(n):\n",
        "  if(n==0):\n",
        "    return 0\n",
        "  else:\n",
        "    return n%10+Sum(int(n/10))\n",
        "print(Sum(111))"
      ],
      "execution_count": 30,
      "outputs": [
        {
          "output_type": "stream",
          "name": "stdout",
          "text": [
            "3\n"
          ]
        }
      ]
    },
    {
      "cell_type": "code",
      "metadata": {
        "colab": {
          "base_uri": "https://localhost:8080/"
        },
        "id": "X19KkCS-K5Eh",
        "outputId": "d7aaa51e-ea33-4d77-b213-b54daccbb7ec"
      },
      "source": [
        "def Power(c,n):\n",
        "  if(n == 0):\n",
        "    return 1\n",
        "  else:\n",
        "    return c*Power(c,n-1)\n",
        "\n",
        "print(Power(2,3))"
      ],
      "execution_count": 31,
      "outputs": [
        {
          "output_type": "stream",
          "name": "stdout",
          "text": [
            "8\n"
          ]
        }
      ]
    },
    {
      "cell_type": "code",
      "metadata": {
        "colab": {
          "base_uri": "https://localhost:8080/"
        },
        "id": "eyNlzF-WMUzg",
        "outputId": "4b250256-4802-4430-869a-45b236bb2a96"
      },
      "source": [
        "#Find gcd using euclidean algorithm\n",
        "# The algo: gcd(a,b) = gcd( a, a%b ) and gcd( a, 0 ) = a\n",
        "\n",
        "def gcd(a,b):\n",
        "  if(b == 0):\n",
        "    return a\n",
        "  else:\n",
        "    return gcd(b,a%b)\n",
        "\n",
        "print(gcd(48,18))"
      ],
      "execution_count": 32,
      "outputs": [
        {
          "output_type": "stream",
          "name": "stdout",
          "text": [
            "6\n"
          ]
        }
      ]
    }
  ]
}