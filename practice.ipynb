{
  "nbformat": 4,
  "nbformat_minor": 0,
  "metadata": {
    "colab": {
      "name": "practice",
      "provenance": [],
      "authorship_tag": "ABX9TyOKJVUG864r0qfZjlGS1meo",
      "include_colab_link": true
    },
    "kernelspec": {
      "name": "python3",
      "display_name": "Python 3"
    },
    "language_info": {
      "name": "python"
    }
  },
  "cells": [
    {
      "cell_type": "markdown",
      "metadata": {
        "id": "view-in-github",
        "colab_type": "text"
      },
      "source": [
        "<a href=\"https://colab.research.google.com/github/aswin888/meh/blob/main/practice.ipynb\" target=\"_parent\"><img src=\"https://colab.research.google.com/assets/colab-badge.svg\" alt=\"Open In Colab\"/></a>"
      ]
    },
    {
      "cell_type": "markdown",
      "metadata": {
        "id": "W3ICK43-6o8g"
      },
      "source": [
        "<h1>1.Recursion</h1>\n",
        "<hr>"
      ]
    },
    {
      "cell_type": "code",
      "metadata": {
        "id": "3R5mBiLALikq",
        "colab": {
          "base_uri": "https://localhost:8080/"
        },
        "outputId": "cb70a0b8-bcc6-4c71-e95f-08a57e841dae"
      },
      "source": [
        "def recursiveMethod(n):\n",
        "  if(n<1):\n",
        "    print(\"n is less than 1, base condition\")\n",
        "  else:\n",
        "    recursiveMethod(n-1)\n",
        "    print(n)\n",
        "\n",
        "recursiveMethod(4)\n",
        "\n",
        "'''\n",
        "STACK MEMORY\n",
        "'''"
      ],
      "execution_count": null,
      "outputs": [
        {
          "output_type": "stream",
          "name": "stdout",
          "text": [
            "n is less than 1, base condition\n",
            "1\n",
            "2\n",
            "3\n",
            "4\n"
          ]
        }
      ]
    },
    {
      "cell_type": "code",
      "metadata": {
        "colab": {
          "base_uri": "https://localhost:8080/"
        },
        "id": "R7jcAJmoFH4u",
        "outputId": "00241b8c-c7be-433d-d051-f2057d4a21bc"
      },
      "source": [
        "def factorial(n):\n",
        "  if(n == 0):\n",
        "    return 1\n",
        "  else:\n",
        "    return n * factorial(n-1)\n",
        "\n",
        "print(factorial(4))"
      ],
      "execution_count": null,
      "outputs": [
        {
          "output_type": "stream",
          "name": "stdout",
          "text": [
            "24\n"
          ]
        }
      ]
    },
    {
      "cell_type": "code",
      "metadata": {
        "colab": {
          "base_uri": "https://localhost:8080/"
        },
        "id": "YvbE_3GJGnge",
        "outputId": "ce62208d-e081-4031-b6fb-0f351f9bd4e4"
      },
      "source": [
        "def fibo(n):\n",
        "  assert n>0 and n == int(n), \"Error input\"\n",
        "  if(n==1):\n",
        "    return 0\n",
        "  if(n == 2):\n",
        "    return 1\n",
        "  else:\n",
        "    return fibo(n-1)+fibo(n-2)\n",
        "\n",
        "print(fibo(10))"
      ],
      "execution_count": null,
      "outputs": [
        {
          "output_type": "stream",
          "name": "stdout",
          "text": [
            "34\n"
          ]
        }
      ]
    },
    {
      "cell_type": "code",
      "metadata": {
        "colab": {
          "base_uri": "https://localhost:8080/"
        },
        "id": "UfMqmNePJI5P",
        "outputId": "35feb35d-e87f-47dd-fe65-14126e72ca90"
      },
      "source": [
        "def Sum(n):\n",
        "  if(n==0):\n",
        "    return 0\n",
        "  else:\n",
        "    return n+Sum(n-1)\n",
        "\n",
        "print(Sum(5))"
      ],
      "execution_count": null,
      "outputs": [
        {
          "output_type": "stream",
          "name": "stdout",
          "text": [
            "15\n"
          ]
        }
      ]
    },
    {
      "cell_type": "code",
      "metadata": {
        "colab": {
          "base_uri": "https://localhost:8080/"
        },
        "id": "JHAQdZa5Jksz",
        "outputId": "6eded163-bb47-471b-f645-055bef267df6"
      },
      "source": [
        "#sum of digits in the number\n",
        "def Sum(n):\n",
        "  if(n==0):\n",
        "    return 0\n",
        "  else:\n",
        "    return n%10+Sum(int(n/10))\n",
        "print(Sum(111))"
      ],
      "execution_count": null,
      "outputs": [
        {
          "output_type": "stream",
          "name": "stdout",
          "text": [
            "3\n"
          ]
        }
      ]
    },
    {
      "cell_type": "code",
      "metadata": {
        "colab": {
          "base_uri": "https://localhost:8080/"
        },
        "id": "X19KkCS-K5Eh",
        "outputId": "d7aaa51e-ea33-4d77-b213-b54daccbb7ec"
      },
      "source": [
        "def Power(c,n):\n",
        "  if(n == 0):\n",
        "    return 1\n",
        "  else:\n",
        "    return c*Power(c,n-1)\n",
        "\n",
        "print(Power(2,3))"
      ],
      "execution_count": null,
      "outputs": [
        {
          "output_type": "stream",
          "name": "stdout",
          "text": [
            "8\n"
          ]
        }
      ]
    },
    {
      "cell_type": "code",
      "metadata": {
        "colab": {
          "base_uri": "https://localhost:8080/"
        },
        "id": "eyNlzF-WMUzg",
        "outputId": "4b250256-4802-4430-869a-45b236bb2a96"
      },
      "source": [
        "#Find gcd using euclidean algorithm\n",
        "# The algo: gcd(a,b) = gcd( a, a%b ) and gcd( a, 0 ) = a\n",
        "\n",
        "def gcd(a,b):\n",
        "  if(b == 0):\n",
        "    return a\n",
        "  else:\n",
        "    return gcd(b,a%b)\n",
        "\n",
        "print(gcd(48,18))"
      ],
      "execution_count": null,
      "outputs": [
        {
          "output_type": "stream",
          "name": "stdout",
          "text": [
            "6\n"
          ]
        }
      ]
    },
    {
      "cell_type": "code",
      "metadata": {
        "colab": {
          "base_uri": "https://localhost:8080/"
        },
        "id": "UYulUrLTNYC-",
        "outputId": "48a1bfa9-c4ec-4a8b-d29f-6560c69415f1"
      },
      "source": [
        "#decimal to binary\n",
        "def binary(n):\n",
        "  if(n == 0):\n",
        "    return 0\n",
        "  else:\n",
        "    return n%2 + 10*binary(int(n/2))\n",
        "\n",
        "binary(13)"
      ],
      "execution_count": null,
      "outputs": [
        {
          "output_type": "execute_result",
          "data": {
            "text/plain": [
              "1101"
            ]
          },
          "metadata": {},
          "execution_count": 36
        }
      ]
    },
    {
      "cell_type": "markdown",
      "metadata": {
        "id": "6TQKG33wsuju"
      },
      "source": [
        "<h1>Array</h1>\n",
        "<hr>"
      ]
    },
    {
      "cell_type": "code",
      "metadata": {
        "colab": {
          "base_uri": "https://localhost:8080/"
        },
        "id": "GkiUXiXksycl",
        "outputId": "9a64816c-76d5-45d0-d39a-f9338a48028e"
      },
      "source": [
        "from array import *\n",
        "\n",
        "arr1 = array('i',[1,2,3,4,5])\n",
        "print(arr1)\n",
        "\n",
        "# here 'i' is the type code which is the type pf thr content of the array"
      ],
      "execution_count": null,
      "outputs": [
        {
          "output_type": "stream",
          "name": "stdout",
          "text": [
            "array('i', [1, 2, 3, 4, 5])\n"
          ]
        }
      ]
    },
    {
      "cell_type": "code",
      "metadata": {
        "colab": {
          "base_uri": "https://localhost:8080/"
        },
        "id": "uaIIbmUjtIol",
        "outputId": "cb6ceab7-bd7c-441d-c5a3-5ba4b748475e"
      },
      "source": [
        "arr1.append(6)\n",
        "arr1\n",
        "arr1.pop(5)\n",
        "arr1"
      ],
      "execution_count": null,
      "outputs": [
        {
          "output_type": "execute_result",
          "data": {
            "text/plain": [
              "array('i', [1, 2, 3, 4, 5, 6, 6])"
            ]
          },
          "metadata": {},
          "execution_count": 7
        }
      ]
    },
    {
      "cell_type": "code",
      "metadata": {
        "colab": {
          "base_uri": "https://localhost:8080/"
        },
        "id": "lWFWgfhRtYB0",
        "outputId": "358275d6-d50f-4aa9-cdec-c4ce1d096f72"
      },
      "source": [
        "arr1.insert(0,0)\n",
        "arr1"
      ],
      "execution_count": null,
      "outputs": [
        {
          "output_type": "execute_result",
          "data": {
            "text/plain": [
              "array('i', [0, 0, 1, 1, 2, 3, 4, 5, 6, 6])"
            ]
          },
          "metadata": {},
          "execution_count": 12
        }
      ]
    },
    {
      "cell_type": "code",
      "metadata": {
        "colab": {
          "base_uri": "https://localhost:8080/"
        },
        "id": "GzT78w3rum0k",
        "outputId": "98cd918a-e00d-4708-b91c-7565604d565d"
      },
      "source": [
        "arr1.pop(2)\n",
        "arr1\n",
        "\n",
        "'''\n",
        "pop() takes index\n",
        "remove() takes value\n",
        "'''"
      ],
      "execution_count": null,
      "outputs": [
        {
          "output_type": "execute_result",
          "data": {
            "text/plain": [
              "array('i', [0, 1, 2, 3, 4, 5, 6])"
            ]
          },
          "metadata": {},
          "execution_count": 15
        }
      ]
    },
    {
      "cell_type": "markdown",
      "metadata": {
        "id": "cBOWYVpbuR78"
      },
      "source": [
        "Time Complexities\n",
        "1. Array Traversal-O(n)\n",
        "2. INsertion ins the beginiing - O(n)\n",
        "3. Insertion at the end - O(1)\n",
        "4. INsertion on a full array at the end - O(n)"
      ]
    },
    {
      "cell_type": "code",
      "metadata": {
        "colab": {
          "base_uri": "https://localhost:8080/"
        },
        "id": "7bfOqNhswRIX",
        "outputId": "464e9115-204f-4208-d58b-2cc6156c3ddd"
      },
      "source": [
        "#Create an array and traverse\n",
        "arr = array('i',[1,2,3,3,4])\n",
        "arr"
      ],
      "execution_count": null,
      "outputs": [
        {
          "output_type": "execute_result",
          "data": {
            "text/plain": [
              "array('i', [1, 2, 3, 3, 4])"
            ]
          },
          "metadata": {},
          "execution_count": 20
        }
      ]
    },
    {
      "cell_type": "code",
      "metadata": {
        "colab": {
          "base_uri": "https://localhost:8080/"
        },
        "id": "G9VL1fhMwcVM",
        "outputId": "b62901de-aab9-44c9-c07a-7726245fe469"
      },
      "source": [
        "#Access individual element through index\n",
        "arr[2]"
      ],
      "execution_count": null,
      "outputs": [
        {
          "output_type": "execute_result",
          "data": {
            "text/plain": [
              "3"
            ]
          },
          "metadata": {},
          "execution_count": 21
        }
      ]
    },
    {
      "cell_type": "code",
      "metadata": {
        "id": "IbiG9lQowkH8"
      },
      "source": [
        "#Append value using append() method\n",
        "arr.append(5)"
      ],
      "execution_count": null,
      "outputs": []
    },
    {
      "cell_type": "code",
      "metadata": {
        "colab": {
          "base_uri": "https://localhost:8080/"
        },
        "id": "ziYwfPFrwrnG",
        "outputId": "a610f338-100d-47b7-d9aa-1c06ee13ecac"
      },
      "source": [
        "#insert value into array using insert()\n",
        "arr.insert(0,0)\n",
        "arr"
      ],
      "execution_count": null,
      "outputs": [
        {
          "output_type": "execute_result",
          "data": {
            "text/plain": [
              "array('i', [0, 1, 2, 3, 3, 4, 5])"
            ]
          },
          "metadata": {},
          "execution_count": 23
        }
      ]
    },
    {
      "cell_type": "code",
      "metadata": {
        "colab": {
          "base_uri": "https://localhost:8080/"
        },
        "id": "ZsHxFtzvwxrd",
        "outputId": "b7311cb7-fedb-48ef-8ae3-9fa0af4ec778"
      },
      "source": [
        "#Extend python array using extend() method\n",
        "arr.extend([7,8,9])\n",
        "arr"
      ],
      "execution_count": null,
      "outputs": [
        {
          "output_type": "execute_result",
          "data": {
            "text/plain": [
              "array('i', [0, 1, 2, 3, 3, 4, 5, 7, 8, 9])"
            ]
          },
          "metadata": {},
          "execution_count": 24
        }
      ]
    },
    {
      "cell_type": "code",
      "metadata": {
        "colab": {
          "base_uri": "https://localhost:8080/"
        },
        "id": "blRiTbAyw_Qs",
        "outputId": "066889f5-f230-4b39-8b94-980e22cc7726"
      },
      "source": [
        "# add items to array fromlist using fromlist()\n",
        "lst = [10,11,12]\n",
        "arr.fromlist(lst)\n",
        "arr"
      ],
      "execution_count": null,
      "outputs": [
        {
          "output_type": "execute_result",
          "data": {
            "text/plain": [
              "array('i', [0, 1, 2, 3, 3, 4, 5, 7, 8, 9, 10, 11, 12])"
            ]
          },
          "metadata": {},
          "execution_count": 25
        }
      ]
    },
    {
      "cell_type": "code",
      "metadata": {
        "colab": {
          "base_uri": "https://localhost:8080/"
        },
        "id": "KiGfAHkvxNat",
        "outputId": "be545511-2c80-42e1-93a1-6c2af7c649a7"
      },
      "source": [
        "#remove element using remove()\n",
        "arr.remove(12)\n",
        "arr"
      ],
      "execution_count": null,
      "outputs": [
        {
          "output_type": "execute_result",
          "data": {
            "text/plain": [
              "array('i', [0, 1, 2, 3, 3, 4, 5, 7, 8, 9, 10, 11])"
            ]
          },
          "metadata": {},
          "execution_count": 26
        }
      ]
    },
    {
      "cell_type": "code",
      "metadata": {
        "colab": {
          "base_uri": "https://localhost:8080/"
        },
        "id": "JrErT-NQxTTs",
        "outputId": "f5fc2eed-bc3b-4bbf-929a-ba527d883aa0"
      },
      "source": [
        "#using pop()\n",
        "arr.pop()"
      ],
      "execution_count": null,
      "outputs": [
        {
          "output_type": "execute_result",
          "data": {
            "text/plain": [
              "11"
            ]
          },
          "metadata": {},
          "execution_count": 27
        }
      ]
    },
    {
      "cell_type": "code",
      "metadata": {
        "colab": {
          "base_uri": "https://localhost:8080/"
        },
        "id": "rGAbFPtYxWR9",
        "outputId": "dad601b7-e7d9-4f0d-dc8b-acb0a2b5ff63"
      },
      "source": [
        "arr"
      ],
      "execution_count": null,
      "outputs": [
        {
          "output_type": "execute_result",
          "data": {
            "text/plain": [
              "array('i', [0, 1, 2, 3, 3, 4, 5, 7, 8, 9, 10])"
            ]
          },
          "metadata": {},
          "execution_count": 28
        }
      ]
    },
    {
      "cell_type": "code",
      "metadata": {
        "colab": {
          "base_uri": "https://localhost:8080/"
        },
        "id": "iRZMknllxXf9",
        "outputId": "fb1df45c-9a93-4e77-b344-3509c400c9f7"
      },
      "source": [
        "#fetch elemnt using index()\n",
        "arr.index(2)"
      ],
      "execution_count": null,
      "outputs": [
        {
          "output_type": "execute_result",
          "data": {
            "text/plain": [
              "2"
            ]
          },
          "metadata": {},
          "execution_count": 29
        }
      ]
    },
    {
      "cell_type": "code",
      "metadata": {
        "colab": {
          "base_uri": "https://localhost:8080/"
        },
        "id": "O99Qio9fxd7V",
        "outputId": "fca27954-084d-4f19-c137-663876489630"
      },
      "source": [
        "#reverse using revserse()\n",
        "arr.reverse()\n",
        "arr"
      ],
      "execution_count": null,
      "outputs": [
        {
          "output_type": "execute_result",
          "data": {
            "text/plain": [
              "array('i', [10, 9, 8, 7, 5, 4, 3, 3, 2, 1, 0])"
            ]
          },
          "metadata": {},
          "execution_count": 30
        }
      ]
    },
    {
      "cell_type": "code",
      "metadata": {
        "colab": {
          "base_uri": "https://localhost:8080/"
        },
        "id": "ZbOeYXQ9xlVU",
        "outputId": "3b6e8547-c956-458d-e1d7-00ffe9c20643"
      },
      "source": [
        "#get buffer info\n",
        "arr.buffer_info()\n",
        "# the (memory address, no of elements) is obtained"
      ],
      "execution_count": null,
      "outputs": [
        {
          "output_type": "execute_result",
          "data": {
            "text/plain": [
              "(140412617395616, 11)"
            ]
          },
          "metadata": {},
          "execution_count": 31
        }
      ]
    },
    {
      "cell_type": "code",
      "metadata": {
        "colab": {
          "base_uri": "https://localhost:8080/"
        },
        "id": "I2ljZlyFx1l2",
        "outputId": "ebf551b9-581d-439e-999d-b2e9c79ad9be"
      },
      "source": [
        "#check number of occurences\n",
        "arr.count(3)"
      ],
      "execution_count": null,
      "outputs": [
        {
          "output_type": "execute_result",
          "data": {
            "text/plain": [
              "2"
            ]
          },
          "metadata": {},
          "execution_count": 32
        }
      ]
    },
    {
      "cell_type": "code",
      "metadata": {
        "colab": {
          "base_uri": "https://localhost:8080/",
          "height": 178
        },
        "id": "Yitr0UX8x8Md",
        "outputId": "3f81df04-dae6-4c3f-b02c-c7a64a5d8b0e"
      },
      "source": [
        "#convert array to stinrg\n",
        "print(arr.to_string())"
      ],
      "execution_count": null,
      "outputs": [
        {
          "output_type": "error",
          "ename": "AttributeError",
          "evalue": "ignored",
          "traceback": [
            "\u001b[0;31m---------------------------------------------------------------------------\u001b[0m",
            "\u001b[0;31mAttributeError\u001b[0m                            Traceback (most recent call last)",
            "\u001b[0;32m<ipython-input-35-62ab8fc779ce>\u001b[0m in \u001b[0;36m<module>\u001b[0;34m()\u001b[0m\n\u001b[1;32m      1\u001b[0m \u001b[0;31m#convert array to stinrg\u001b[0m\u001b[0;34m\u001b[0m\u001b[0;34m\u001b[0m\u001b[0;34m\u001b[0m\u001b[0m\n\u001b[0;32m----> 2\u001b[0;31m \u001b[0mprint\u001b[0m\u001b[0;34m(\u001b[0m\u001b[0marr\u001b[0m\u001b[0;34m.\u001b[0m\u001b[0mto_string\u001b[0m\u001b[0;34m(\u001b[0m\u001b[0;34m)\u001b[0m\u001b[0;34m)\u001b[0m\u001b[0;34m\u001b[0m\u001b[0;34m\u001b[0m\u001b[0m\n\u001b[0m",
            "\u001b[0;31mAttributeError\u001b[0m: 'array.array' object has no attribute 'to_string'"
          ]
        }
      ]
    },
    {
      "cell_type": "code",
      "metadata": {
        "colab": {
          "base_uri": "https://localhost:8080/"
        },
        "id": "Em5fSu53yNW-",
        "outputId": "4a8c659d-4715-48c9-c64f-e43cacd775b8"
      },
      "source": [
        "#array ---> list\n",
        "print(arr.tolist())"
      ],
      "execution_count": null,
      "outputs": [
        {
          "output_type": "stream",
          "name": "stdout",
          "text": [
            "[10, 9, 8, 7, 5, 4, 3, 3, 2, 1, 0]\n"
          ]
        }
      ]
    },
    {
      "cell_type": "code",
      "metadata": {
        "colab": {
          "base_uri": "https://localhost:8080/"
        },
        "id": "RvgY3nISypW2",
        "outputId": "9e52d069-4b0c-405f-bf48-dc9f77982458"
      },
      "source": [
        "#slice elements\n",
        "arr[1:5]"
      ],
      "execution_count": null,
      "outputs": [
        {
          "output_type": "execute_result",
          "data": {
            "text/plain": [
              "array('i', [9, 8, 7, 5])"
            ]
          },
          "metadata": {},
          "execution_count": 37
        }
      ]
    },
    {
      "cell_type": "code",
      "metadata": {
        "colab": {
          "base_uri": "https://localhost:8080/"
        },
        "id": "WUjsnlfGSqzV",
        "outputId": "e8964550-bb06-4518-8c9d-caeb3db674ca"
      },
      "source": [
        "#find the missing number\n",
        "import numpy as np\n",
        "\n",
        "def findMissing(lst):\n",
        "  sum = np.sum(lst)\n",
        "  n = len(lst)+1\n",
        "  SUM = n*(n+1)/2\n",
        "  print('This is the missing number {}'.format(SUM-sum))\n",
        "\n",
        "arr = np.array([1,2,3,4,5,6,7,8,10])\n",
        "findMissing(arr)"
      ],
      "execution_count": null,
      "outputs": [
        {
          "output_type": "stream",
          "name": "stdout",
          "text": [
            "This is the missing number 9.0\n"
          ]
        }
      ]
    },
    {
      "cell_type": "code",
      "metadata": {
        "colab": {
          "base_uri": "https://localhost:8080/"
        },
        "id": "_jh8cEnBU7sN",
        "outputId": "b8dd5ddd-3c49-45ee-b715-c08f02c811b9"
      },
      "source": [
        "'''\n",
        "INPUT AN ARRAY AND OUTPUT THE PAIR OF NUMBERS HAVING THE SUM EQUAL TO THE TARGET\n",
        "'''\n",
        "\n",
        "def findPair(lst,target):\n",
        "  for i in lst:\n",
        "    for j in lst:\n",
        "      if((i+j) == target):\n",
        "        print((i,j))\n",
        "\n",
        "\n",
        "\n",
        "lst = [2,6,3,9,11]\n",
        "target = 9\n",
        "\n",
        "findPair(lst,target)"
      ],
      "execution_count": null,
      "outputs": [
        {
          "output_type": "stream",
          "name": "stdout",
          "text": [
            "(6, 3)\n",
            "(3, 6)\n"
          ]
        }
      ]
    }
  ]
}